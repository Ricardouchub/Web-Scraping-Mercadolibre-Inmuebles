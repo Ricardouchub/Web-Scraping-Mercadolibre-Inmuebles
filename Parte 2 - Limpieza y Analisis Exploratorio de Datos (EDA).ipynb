{
 "cells": [
  {
   "cell_type": "markdown",
   "id": "2fe0994d",
   "metadata": {},
   "source": [
    "# Fotografía del Mercado Inmobiliario en la comuna de Santiago:\n",
    "## Factores Clave en el Precio de Departamentos\n"
   ]
  },
  {
   "cell_type": "markdown",
   "id": "4f46aadb",
   "metadata": {},
   "source": [
    "#### Autor: Ricardo Urdaneta\n",
    "\n",
    "Fecha: 24 julio 2025"
   ]
  },
  {
   "cell_type": "markdown",
   "id": "80ab483c",
   "metadata": {},
   "source": [
    "El mercado inmobiliario en Santiago es un sector dinámico y de alto interés tanto para inversionistas como para futuros propietarios. Comprender las variables que determinan el valor de una propiedad es fundamental para tomar decisiones informadas. Este análisis se sumerge en el mercado de venta de departamentos en la comuna de Santiago, utilizando datos extraídos mediante técnicas de web scraping desde el portal Mercado Libre durante el día 26 de julio de 2025.\n",
    "\n",
    "El objetivo es transformar datos en bruto y desestructurados en un conjunto de datos limpio y accionable, que nos permita descubrir patrones, tendencias y las relaciones clave que definen el panorama inmobiliario actual.\n",
    "\n",
    "#### Objetivo del Análisis\n",
    "El objetivo principal de este proyecto es identificar y cuantificar los factores que más influyen en el precio de venta de los departamentos en Santiago. A través de un análisis exploratorio de datos (EDA), se buscará caracterizar la oferta actual y entender la relación entre el precio y las características de las propiedades.\n",
    "\n",
    "\n",
    "#### Metodología\n",
    "Para alcanzar el objetivo, se seguirá un proceso estructurado que abarca el ciclo de vida completo de un proyecto de datos:\n",
    "\n",
    "`Extracción de Datos`: Obtención de datos crudos mediante web scraping y ya realizado en la **parte 1**.\n",
    "\n",
    "`Limpieza y Preprocesamiento (ETL)`: Transformación de los datos brutos en un formato estructurado y limpio, manejando valores nulos y creando nuevas variables.\n",
    "\n",
    "`Análisis Exploratorio de Datos (EDA)`: Cálculo de estadísticas, identificación de patrones y relaciones a través de visualizaciones.\n",
    "\n",
    "`Interpretación de Resultados`: Obtención de conclusiones claras y respuestas a las preguntas clave planteadas."
   ]
  },
  {
   "cell_type": "markdown",
   "id": "a8ef472f",
   "metadata": {},
   "source": [
    "### Preparamos el ambiente\n",
    "\n",
    "Importamos las librerias con las que trabajaremos."
   ]
  },
  {
   "cell_type": "code",
   "execution_count": 81,
   "id": "080d32a1",
   "metadata": {},
   "outputs": [],
   "source": [
    "# Importamos las librerías principales\n",
    "import pandas as pd\n",
    "import os\n",
    "import numpy as np\n",
    "import matplotlib.pyplot as plt\n",
    "import seaborn as sns\n",
    "import warnings \n",
    "warnings.filterwarnings('ignore')"
   ]
  },
  {
   "cell_type": "markdown",
   "id": "8671e0bb",
   "metadata": {},
   "source": [
    "Debido a la naturaleza de los datos crudos del archivo .csv obtenido a través de web scraping, no se puede utilizar el método `.read_csv()` sino que se tuvo que hacer una lectura manual como un simple archivo de texto para luego construir el dataframe manualmente.\n",
    "\n",
    "Este código abre el archivo, lee cada línea una por una y las guarda en una lista. Finalmente, crea el DataFrame a partir de esa lista."
   ]
  },
  {
   "cell_type": "code",
   "execution_count": 82,
   "id": "89984afd",
   "metadata": {},
   "outputs": [
    {
     "name": "stdout",
     "output_type": "stream",
     "text": [
      "Intentando cargar el archivo línea por línea...\n",
      "\n",
      "¡Éxito! El archivo se cargó correctamente.\n",
      "Se cargaron 2016 registros.\n"
     ]
    },
    {
     "data": {
      "text/html": [
       "<div>\n",
       "<style scoped>\n",
       "    .dataframe tbody tr th:only-of-type {\n",
       "        vertical-align: middle;\n",
       "    }\n",
       "\n",
       "    .dataframe tbody tr th {\n",
       "        vertical-align: top;\n",
       "    }\n",
       "\n",
       "    .dataframe thead th {\n",
       "        text-align: right;\n",
       "    }\n",
       "</style>\n",
       "<table border=\"1\" class=\"dataframe\">\n",
       "  <thead>\n",
       "    <tr style=\"text-align: right;\">\n",
       "      <th></th>\n",
       "      <th>datos_brutos</th>\n",
       "    </tr>\n",
       "  </thead>\n",
       "  <tbody>\n",
       "    <tr>\n",
       "      <th>0</th>\n",
       "      <td>PROYECTO | Departamentos en venta | Edificio C...</td>\n",
       "    </tr>\n",
       "    <tr>\n",
       "      <th>1</th>\n",
       "      <td>PROYECTO | Departamentos en venta | San Ignaci...</td>\n",
       "    </tr>\n",
       "    <tr>\n",
       "      <th>2</th>\n",
       "      <td>PROYECTO | Departamentos en venta | Sinergía V...</td>\n",
       "    </tr>\n",
       "    <tr>\n",
       "      <th>3</th>\n",
       "      <td>PROYECTO | Departamentos en venta | Jofre | UF...</td>\n",
       "    </tr>\n",
       "    <tr>\n",
       "      <th>4</th>\n",
       "      <td>PROYECTO | Departamentos en venta | Eco Espaci...</td>\n",
       "    </tr>\n",
       "  </tbody>\n",
       "</table>\n",
       "</div>"
      ],
      "text/plain": [
       "                                        datos_brutos\n",
       "0  PROYECTO | Departamentos en venta | Edificio C...\n",
       "1  PROYECTO | Departamentos en venta | San Ignaci...\n",
       "2  PROYECTO | Departamentos en venta | Sinergía V...\n",
       "3  PROYECTO | Departamentos en venta | Jofre | UF...\n",
       "4  PROYECTO | Departamentos en venta | Eco Espaci..."
      ]
     },
     "execution_count": 82,
     "metadata": {},
     "output_type": "execute_result"
    }
   ],
   "source": [
    "# Definimos la ruta del archivo\n",
    "ruta_archivo = 'data/datos_raw_inmuebles_santiago.csv'\n",
    "\n",
    "# Creamos una lista vacía para guardar cada línea de datos\n",
    "lista_de_datos = []\n",
    "\n",
    "print(\"Intentando cargar el archivo línea por línea...\")\n",
    "\n",
    "try:\n",
    "    # Abrimos el archivo en modo lectura ('r') con la codificación correcta\n",
    "    with open(ruta_archivo, 'r', encoding='utf-8-sig') as f:\n",
    "        \n",
    "        # Saltamos la primera línea, que es el encabezado 'datos_brutos'\n",
    "        next(f)\n",
    "        \n",
    "        # Leemos cada línea restante del archivo\n",
    "        for linea in f:\n",
    "            # Añadimos la línea a nuestra lista, quitando espacios o saltos de línea al principio y al final (.strip())\n",
    "            lista_de_datos.append(linea.strip())\n",
    "\n",
    "    # Creamos el DataFrame a partir de la lista que llenamos\n",
    "    df = pd.DataFrame(lista_de_datos, columns=['datos_brutos'])\n",
    "\n",
    "    # --- Verificación Final ---\n",
    "    print(\"\\n¡Éxito! El archivo se cargó correctamente.\")\n",
    "    print(f\"Se cargaron {len(df)} registros.\")\n",
    "    df.head()\n",
    "except FileNotFoundError:\n",
    "    print(f\"Error: No se pudo encontrar el archivo en la ruta '{ruta_archivo}'\")\n",
    "except Exception as e:\n",
    "    print(f\"Ocurrió un error inesperado durante la lectura del archivo: {e}\")\n",
    "df.head()"
   ]
  },
  {
   "cell_type": "markdown",
   "id": "61841535",
   "metadata": {},
   "source": [
    "#### Data Wrangling\n",
    "\n",
    "Transformamos la columna de texto `datos_brutos` en un DataFrame estructurado, utilizando las expresiones regulares `regex`.\n",
    "\n",
    "#### Proceso:\n",
    "\n",
    "* Extracción de Características: Se crean nuevas columnas para `Moneda`, `Precio`, `Dormitorios`, `Banos`, `Superficie_m2`, `Direccion` y `Comuna`. Cada una extrae su dato correspondiente del texto original buscando patrones específicos (ej. un número seguido de \"dorms.\" o el símbolo \"UF\").\n",
    "\n",
    "* Limpieza y Conversión: Los datos extraídos, que inicialmente son texto, se limpian (ej. quitando puntos de los miles en el precio) y se convierten al tipo de dato numérico adecuado para permitir cálculos matemáticos.\n",
    "\n",
    "* DataFrame Final: Se genera un nuevo DataFrame llamado `df_limpio` que contiene únicamente las columnas limpias y estructuradas, casi listo para el análisis exploratorio."
   ]
  },
  {
   "cell_type": "code",
   "execution_count": 83,
   "id": "7334da4c",
   "metadata": {},
   "outputs": [
    {
     "name": "stdout",
     "output_type": "stream",
     "text": [
      "Verificación de Moneda y Precio extraídos:\n",
      "  Moneda  Precio\n",
      "0     UF    2516\n",
      "1     UF    2245\n",
      "2     UF    2160\n",
      "3     UF    3092\n",
      "4     UF    2630\n",
      "--- Información del DataFrame Limpio ---\n",
      "<class 'pandas.core.frame.DataFrame'>\n",
      "RangeIndex: 2016 entries, 0 to 2015\n",
      "Data columns (total 7 columns):\n",
      " #   Column         Non-Null Count  Dtype  \n",
      "---  ------         --------------  -----  \n",
      " 0   Moneda         2015 non-null   object \n",
      " 1   Precio         2015 non-null   Int64  \n",
      " 2   Dormitorios    2006 non-null   Int64  \n",
      " 3   Banos          2010 non-null   Int64  \n",
      " 4   Superficie_m2  2013 non-null   float64\n",
      " 5   Direccion      2015 non-null   object \n",
      " 6   Comuna         2015 non-null   object \n",
      "dtypes: Int64(3), float64(1), object(3)\n",
      "memory usage: 116.3+ KB\n",
      "\n",
      "--- Vista Previa del DataFrame Limpio ---\n"
     ]
    },
    {
     "data": {
      "text/html": [
       "<div>\n",
       "<style scoped>\n",
       "    .dataframe tbody tr th:only-of-type {\n",
       "        vertical-align: middle;\n",
       "    }\n",
       "\n",
       "    .dataframe tbody tr th {\n",
       "        vertical-align: top;\n",
       "    }\n",
       "\n",
       "    .dataframe thead th {\n",
       "        text-align: right;\n",
       "    }\n",
       "</style>\n",
       "<table border=\"1\" class=\"dataframe\">\n",
       "  <thead>\n",
       "    <tr style=\"text-align: right;\">\n",
       "      <th></th>\n",
       "      <th>Moneda</th>\n",
       "      <th>Precio</th>\n",
       "      <th>Dormitorios</th>\n",
       "      <th>Banos</th>\n",
       "      <th>Superficie_m2</th>\n",
       "      <th>Direccion</th>\n",
       "      <th>Comuna</th>\n",
       "    </tr>\n",
       "  </thead>\n",
       "  <tbody>\n",
       "    <tr>\n",
       "      <th>0</th>\n",
       "      <td>UF</td>\n",
       "      <td>2516</td>\n",
       "      <td>2</td>\n",
       "      <td>2</td>\n",
       "      <td>53.0</td>\n",
       "      <td>Bulnes</td>\n",
       "      <td>Santiago</td>\n",
       "    </tr>\n",
       "    <tr>\n",
       "      <th>1</th>\n",
       "      <td>UF</td>\n",
       "      <td>2245</td>\n",
       "      <td>2</td>\n",
       "      <td>2</td>\n",
       "      <td>52.0</td>\n",
       "      <td>Dieciocho</td>\n",
       "      <td>Santiago</td>\n",
       "    </tr>\n",
       "    <tr>\n",
       "      <th>2</th>\n",
       "      <td>UF</td>\n",
       "      <td>2160</td>\n",
       "      <td>2</td>\n",
       "      <td>2</td>\n",
       "      <td>62.0</td>\n",
       "      <td>Bogotá - Sierra Bella</td>\n",
       "      <td>Santiago</td>\n",
       "    </tr>\n",
       "    <tr>\n",
       "      <th>3</th>\n",
       "      <td>UF</td>\n",
       "      <td>3092</td>\n",
       "      <td>1</td>\n",
       "      <td>1</td>\n",
       "      <td>32.0</td>\n",
       "      <td>Santa Isabel</td>\n",
       "      <td>Santiago</td>\n",
       "    </tr>\n",
       "    <tr>\n",
       "      <th>4</th>\n",
       "      <td>UF</td>\n",
       "      <td>2630</td>\n",
       "      <td>2</td>\n",
       "      <td>2</td>\n",
       "      <td>63.0</td>\n",
       "      <td>Santa Isabel</td>\n",
       "      <td>Santiago</td>\n",
       "    </tr>\n",
       "  </tbody>\n",
       "</table>\n",
       "</div>"
      ],
      "text/plain": [
       "  Moneda  Precio  Dormitorios  Banos  Superficie_m2              Direccion  \\\n",
       "0     UF    2516            2      2           53.0                 Bulnes   \n",
       "1     UF    2245            2      2           52.0              Dieciocho   \n",
       "2     UF    2160            2      2           62.0  Bogotá - Sierra Bella   \n",
       "3     UF    3092            1      1           32.0           Santa Isabel   \n",
       "4     UF    2630            2      2           63.0           Santa Isabel   \n",
       "\n",
       "     Comuna  \n",
       "0  Santiago  \n",
       "1  Santiago  \n",
       "2  Santiago  \n",
       "3  Santiago  \n",
       "4  Santiago  "
      ]
     },
     "execution_count": 83,
     "metadata": {},
     "output_type": "execute_result"
    }
   ],
   "source": [
    "#  Extraer Moneda y Precio \n",
    "\n",
    "# Usamos un regex que busca el patrón \"| UF | número |\" o \"| $ | número |\" y captura la moneda y el número.\n",
    "df[['Moneda', 'Precio_str']] = df['datos_brutos'].str.extract(r'\\|\\s*(UF|\\$)\\s*\\|\\s*([\\d\\.]+)', expand=True)\n",
    "\n",
    "\n",
    "# Limpiamos la columna de precio: quitamos los puntos y la convertimos a tipo numérico.\n",
    "df['Precio'] = pd.to_numeric(df['Precio_str'].str.replace('.', '', regex=False), errors='coerce')\n",
    "\n",
    "# Asignamos el tipo Int64 que permite valores nulos (NaN)\n",
    "df['Precio'] = df['Precio'].astype('Int64')\n",
    "\n",
    "# Verificamos las primeras 5 filas de las columnas extraídas para confirmar el éxito\n",
    "print(\"Verificación de Moneda y Precio extraídos:\")\n",
    "print(df[['Moneda', 'Precio']].head())\n",
    "\n",
    "\n",
    "#  Extraer Dormitorios \n",
    "\n",
    "# Buscamos un número seguido de la palabra \"dorm\" o \"dormitorio(s)\". El regex (\\d+) captura uno o más dígitos.\n",
    "df['Dormitorios'] = df['datos_brutos'].str.extract(r'(\\d+)\\s*dorms?|(\\d+)\\s*dormitorio?s?').bfill(axis=1)[0]\n",
    "# Convertimos a tipo numérico. Int64 (con mayúscula) permite valores nulos (NaN).\n",
    "df['Dormitorios'] = pd.to_numeric(df['Dormitorios'], errors='coerce').astype('Int64')\n",
    "\n",
    "\n",
    "# Extraer Baños \n",
    "\n",
    "# Buscamos un número seguido de la palabra \"baño(s)\".\n",
    "df['Banos'] = df['datos_brutos'].str.extract(r'(\\d+)\\s*baños?', expand=False)\n",
    "# Convertimos a tipo numérico nullable.\n",
    "df['Banos'] = pd.to_numeric(df['Banos'], errors='coerce').astype('Int64')\n",
    "\n",
    "\n",
    "#  Extraer Superficie \n",
    "\n",
    "# Buscamos un número que pueda tener decimales seguido de \"m²\". Capturamos solo el primer número si hay un rango (ej. \"22-31 m²\").\n",
    "df['Superficie_m2'] = df['datos_brutos'].str.extract(r'([\\d\\.]+)(?:-[\\d\\.]+)?\\s*m²', expand=False)\n",
    "# Convertimos a tipo numérico.\n",
    "df['Superficie_m2'] = pd.to_numeric(df['Superficie_m2'], errors='coerce')\n",
    "\n",
    "\n",
    "#  Extraer Dirección y Comuna \n",
    "\n",
    "# Asumimos una estructura como \"Calle 123, Comuna, RM\". El regex captura los dos textos separados por una coma antes de \"RM\".\n",
    "df[['Direccion', 'Comuna']] = df['datos_brutos'].str.extract(r'([^,]+),\\s*([^,]+),\\s*RM', expand=True)\n",
    "# Limpiamos espacios en blanco al inicio o final que pudieran quedar.\n",
    "if 'Direccion' in df.columns:\n",
    "    df['Direccion'] = df['Direccion'].str.strip()\n",
    "if 'Comuna' in df.columns:\n",
    "    df['Comuna'] = df['Comuna'].str.strip()\n",
    "\n",
    "\n",
    "# Creación del DataFrame Final y Verificación \n",
    "\n",
    "# Seleccionamos solo las columnas que creamos, en el orden deseado.\n",
    "columnas_finales = ['Moneda', 'Precio', 'Dormitorios', 'Banos', 'Superficie_m2', 'Direccion', 'Comuna']\n",
    "df_limpio = df[columnas_finales].copy()\n",
    "\n",
    "# Usamos .info() para ver un resumen del DataFrame\n",
    "print(\"--- Información del DataFrame Limpio ---\")\n",
    "df_limpio.info()\n",
    "\n",
    "# Mostramos las primeras filas del resultado final.\n",
    "print(\"\\n--- Vista Previa del DataFrame Limpio ---\")\n",
    "df_limpio.head()"
   ]
  },
  {
   "cell_type": "markdown",
   "id": "47417dc4",
   "metadata": {},
   "source": [
    "Convertimos el índice del DataFrame en una nueva columna llamada `id`"
   ]
  },
  {
   "cell_type": "code",
   "execution_count": 84,
   "id": "dafc3142",
   "metadata": {},
   "outputs": [
    {
     "data": {
      "text/html": [
       "<div>\n",
       "<style scoped>\n",
       "    .dataframe tbody tr th:only-of-type {\n",
       "        vertical-align: middle;\n",
       "    }\n",
       "\n",
       "    .dataframe tbody tr th {\n",
       "        vertical-align: top;\n",
       "    }\n",
       "\n",
       "    .dataframe thead th {\n",
       "        text-align: right;\n",
       "    }\n",
       "</style>\n",
       "<table border=\"1\" class=\"dataframe\">\n",
       "  <thead>\n",
       "    <tr style=\"text-align: right;\">\n",
       "      <th></th>\n",
       "      <th>id</th>\n",
       "      <th>Moneda</th>\n",
       "      <th>Precio</th>\n",
       "      <th>Dormitorios</th>\n",
       "      <th>Banos</th>\n",
       "      <th>Superficie_m2</th>\n",
       "      <th>Direccion</th>\n",
       "      <th>Comuna</th>\n",
       "    </tr>\n",
       "  </thead>\n",
       "  <tbody>\n",
       "    <tr>\n",
       "      <th>0</th>\n",
       "      <td>0</td>\n",
       "      <td>UF</td>\n",
       "      <td>2516</td>\n",
       "      <td>2</td>\n",
       "      <td>2</td>\n",
       "      <td>53.0</td>\n",
       "      <td>Bulnes</td>\n",
       "      <td>Santiago</td>\n",
       "    </tr>\n",
       "    <tr>\n",
       "      <th>1</th>\n",
       "      <td>1</td>\n",
       "      <td>UF</td>\n",
       "      <td>2245</td>\n",
       "      <td>2</td>\n",
       "      <td>2</td>\n",
       "      <td>52.0</td>\n",
       "      <td>Dieciocho</td>\n",
       "      <td>Santiago</td>\n",
       "    </tr>\n",
       "    <tr>\n",
       "      <th>2</th>\n",
       "      <td>2</td>\n",
       "      <td>UF</td>\n",
       "      <td>2160</td>\n",
       "      <td>2</td>\n",
       "      <td>2</td>\n",
       "      <td>62.0</td>\n",
       "      <td>Bogotá - Sierra Bella</td>\n",
       "      <td>Santiago</td>\n",
       "    </tr>\n",
       "    <tr>\n",
       "      <th>3</th>\n",
       "      <td>3</td>\n",
       "      <td>UF</td>\n",
       "      <td>3092</td>\n",
       "      <td>1</td>\n",
       "      <td>1</td>\n",
       "      <td>32.0</td>\n",
       "      <td>Santa Isabel</td>\n",
       "      <td>Santiago</td>\n",
       "    </tr>\n",
       "    <tr>\n",
       "      <th>4</th>\n",
       "      <td>4</td>\n",
       "      <td>UF</td>\n",
       "      <td>2630</td>\n",
       "      <td>2</td>\n",
       "      <td>2</td>\n",
       "      <td>63.0</td>\n",
       "      <td>Santa Isabel</td>\n",
       "      <td>Santiago</td>\n",
       "    </tr>\n",
       "  </tbody>\n",
       "</table>\n",
       "</div>"
      ],
      "text/plain": [
       "   id Moneda  Precio  Dormitorios  Banos  Superficie_m2  \\\n",
       "0   0     UF    2516            2      2           53.0   \n",
       "1   1     UF    2245            2      2           52.0   \n",
       "2   2     UF    2160            2      2           62.0   \n",
       "3   3     UF    3092            1      1           32.0   \n",
       "4   4     UF    2630            2      2           63.0   \n",
       "\n",
       "               Direccion    Comuna  \n",
       "0                 Bulnes  Santiago  \n",
       "1              Dieciocho  Santiago  \n",
       "2  Bogotá - Sierra Bella  Santiago  \n",
       "3           Santa Isabel  Santiago  \n",
       "4           Santa Isabel  Santiago  "
      ]
     },
     "execution_count": 84,
     "metadata": {},
     "output_type": "execute_result"
    }
   ],
   "source": [
    "# Convierte el índice actual del DataFrame 'df_limpio' en una nueva columna llamada 'index'\n",
    "df_limpio.reset_index(inplace=True)\n",
    "\n",
    "# Renombramos esa nueva columna de 'index' a 'id' para que sea más claro\n",
    "df_limpio.rename(columns={'index': 'id'}, inplace=True)\n",
    "\n",
    "# Mostramos las primeras filas para verificar que la nueva columna 'id' fue creada correctamente\n",
    "df_limpio.head()"
   ]
  },
  {
   "cell_type": "code",
   "execution_count": 85,
   "id": "4aa3b4fb",
   "metadata": {},
   "outputs": [
    {
     "data": {
      "text/html": [
       "<div>\n",
       "<style scoped>\n",
       "    .dataframe tbody tr th:only-of-type {\n",
       "        vertical-align: middle;\n",
       "    }\n",
       "\n",
       "    .dataframe tbody tr th {\n",
       "        vertical-align: top;\n",
       "    }\n",
       "\n",
       "    .dataframe thead th {\n",
       "        text-align: right;\n",
       "    }\n",
       "</style>\n",
       "<table border=\"1\" class=\"dataframe\">\n",
       "  <thead>\n",
       "    <tr style=\"text-align: right;\">\n",
       "      <th></th>\n",
       "      <th>Moneda</th>\n",
       "      <th>Precio</th>\n",
       "      <th>Dormitorios</th>\n",
       "      <th>Banos</th>\n",
       "      <th>Superficie_m2</th>\n",
       "      <th>Direccion</th>\n",
       "      <th>Comuna</th>\n",
       "    </tr>\n",
       "    <tr>\n",
       "      <th>id</th>\n",
       "      <th></th>\n",
       "      <th></th>\n",
       "      <th></th>\n",
       "      <th></th>\n",
       "      <th></th>\n",
       "      <th></th>\n",
       "      <th></th>\n",
       "    </tr>\n",
       "  </thead>\n",
       "  <tbody>\n",
       "    <tr>\n",
       "      <th>0</th>\n",
       "      <td>UF</td>\n",
       "      <td>2516</td>\n",
       "      <td>2</td>\n",
       "      <td>2</td>\n",
       "      <td>53.0</td>\n",
       "      <td>Bulnes</td>\n",
       "      <td>Santiago</td>\n",
       "    </tr>\n",
       "    <tr>\n",
       "      <th>1</th>\n",
       "      <td>UF</td>\n",
       "      <td>2245</td>\n",
       "      <td>2</td>\n",
       "      <td>2</td>\n",
       "      <td>52.0</td>\n",
       "      <td>Dieciocho</td>\n",
       "      <td>Santiago</td>\n",
       "    </tr>\n",
       "    <tr>\n",
       "      <th>2</th>\n",
       "      <td>UF</td>\n",
       "      <td>2160</td>\n",
       "      <td>2</td>\n",
       "      <td>2</td>\n",
       "      <td>62.0</td>\n",
       "      <td>Bogotá - Sierra Bella</td>\n",
       "      <td>Santiago</td>\n",
       "    </tr>\n",
       "    <tr>\n",
       "      <th>3</th>\n",
       "      <td>UF</td>\n",
       "      <td>3092</td>\n",
       "      <td>1</td>\n",
       "      <td>1</td>\n",
       "      <td>32.0</td>\n",
       "      <td>Santa Isabel</td>\n",
       "      <td>Santiago</td>\n",
       "    </tr>\n",
       "    <tr>\n",
       "      <th>4</th>\n",
       "      <td>UF</td>\n",
       "      <td>2630</td>\n",
       "      <td>2</td>\n",
       "      <td>2</td>\n",
       "      <td>63.0</td>\n",
       "      <td>Santa Isabel</td>\n",
       "      <td>Santiago</td>\n",
       "    </tr>\n",
       "  </tbody>\n",
       "</table>\n",
       "</div>"
      ],
      "text/plain": [
       "   Moneda  Precio  Dormitorios  Banos  Superficie_m2              Direccion  \\\n",
       "id                                                                            \n",
       "0      UF    2516            2      2           53.0                 Bulnes   \n",
       "1      UF    2245            2      2           52.0              Dieciocho   \n",
       "2      UF    2160            2      2           62.0  Bogotá - Sierra Bella   \n",
       "3      UF    3092            1      1           32.0           Santa Isabel   \n",
       "4      UF    2630            2      2           63.0           Santa Isabel   \n",
       "\n",
       "      Comuna  \n",
       "id            \n",
       "0   Santiago  \n",
       "1   Santiago  \n",
       "2   Santiago  \n",
       "3   Santiago  \n",
       "4   Santiago  "
      ]
     },
     "execution_count": 85,
     "metadata": {},
     "output_type": "execute_result"
    }
   ],
   "source": [
    "# Establecemos la columna 'id' como el nuevo índice del DataFrame.\n",
    "# El índice anterior (0, 1, 2...) será reemplazado.\n",
    "df_limpio.set_index('id', inplace=True)\n",
    "\n",
    "# Mostramos el resultado final. Verás que 'id' ahora ocupa el lugar del índice.\n",
    "df_limpio.head()"
   ]
  },
  {
   "cell_type": "markdown",
   "id": "d71364df",
   "metadata": {},
   "source": [
    "#### Guardamos el DataFame parcialmente limpio"
   ]
  },
  {
   "cell_type": "code",
   "execution_count": 86,
   "id": "bb4bd0a1",
   "metadata": {},
   "outputs": [
    {
     "name": "stdout",
     "output_type": "stream",
     "text": [
      "DataFrame guardado en: data\\datos_limpios_inmuebles.csv\n"
     ]
    }
   ],
   "source": [
    "# Definir la carpeta y el nombre del archivo final\n",
    "carpeta_salida = 'data'\n",
    "nombre_archivo = 'datos_limpios_inmuebles.csv'\n",
    "ruta_completa = os.path.join(carpeta_salida, nombre_archivo)\n",
    "\n",
    "# Crear la carpeta 'data' si no existe para evitar errores\n",
    "os.makedirs(carpeta_salida, exist_ok=True)\n",
    "\n",
    "# Guardar el DataFrame en la ruta especificada\n",
    "# El DataFrame se guarda con el índice, que ahora es tu columna 'id'.\n",
    "df_limpio.to_csv(ruta_completa, encoding='utf-8-sig')\n",
    "\n",
    "print(f\"DataFrame guardado en: {ruta_completa}\")"
   ]
  },
  {
   "cell_type": "markdown",
   "id": "6a31cc91",
   "metadata": {},
   "source": [
    "En este caso, no haremos un analisis geográfico, por ende eliminaremos las columnas `Direccion` y `Comuna`"
   ]
  },
  {
   "cell_type": "code",
   "execution_count": 87,
   "id": "0675ad8c",
   "metadata": {},
   "outputs": [
    {
     "data": {
      "text/html": [
       "<div>\n",
       "<style scoped>\n",
       "    .dataframe tbody tr th:only-of-type {\n",
       "        vertical-align: middle;\n",
       "    }\n",
       "\n",
       "    .dataframe tbody tr th {\n",
       "        vertical-align: top;\n",
       "    }\n",
       "\n",
       "    .dataframe thead th {\n",
       "        text-align: right;\n",
       "    }\n",
       "</style>\n",
       "<table border=\"1\" class=\"dataframe\">\n",
       "  <thead>\n",
       "    <tr style=\"text-align: right;\">\n",
       "      <th></th>\n",
       "      <th>Moneda</th>\n",
       "      <th>Precio</th>\n",
       "      <th>Dormitorios</th>\n",
       "      <th>Banos</th>\n",
       "      <th>Superficie_m2</th>\n",
       "    </tr>\n",
       "    <tr>\n",
       "      <th>id</th>\n",
       "      <th></th>\n",
       "      <th></th>\n",
       "      <th></th>\n",
       "      <th></th>\n",
       "      <th></th>\n",
       "    </tr>\n",
       "  </thead>\n",
       "  <tbody>\n",
       "    <tr>\n",
       "      <th>0</th>\n",
       "      <td>UF</td>\n",
       "      <td>2516</td>\n",
       "      <td>2</td>\n",
       "      <td>2</td>\n",
       "      <td>53.0</td>\n",
       "    </tr>\n",
       "    <tr>\n",
       "      <th>1</th>\n",
       "      <td>UF</td>\n",
       "      <td>2245</td>\n",
       "      <td>2</td>\n",
       "      <td>2</td>\n",
       "      <td>52.0</td>\n",
       "    </tr>\n",
       "    <tr>\n",
       "      <th>2</th>\n",
       "      <td>UF</td>\n",
       "      <td>2160</td>\n",
       "      <td>2</td>\n",
       "      <td>2</td>\n",
       "      <td>62.0</td>\n",
       "    </tr>\n",
       "    <tr>\n",
       "      <th>3</th>\n",
       "      <td>UF</td>\n",
       "      <td>3092</td>\n",
       "      <td>1</td>\n",
       "      <td>1</td>\n",
       "      <td>32.0</td>\n",
       "    </tr>\n",
       "    <tr>\n",
       "      <th>4</th>\n",
       "      <td>UF</td>\n",
       "      <td>2630</td>\n",
       "      <td>2</td>\n",
       "      <td>2</td>\n",
       "      <td>63.0</td>\n",
       "    </tr>\n",
       "  </tbody>\n",
       "</table>\n",
       "</div>"
      ],
      "text/plain": [
       "   Moneda  Precio  Dormitorios  Banos  Superficie_m2\n",
       "id                                                  \n",
       "0      UF    2516            2      2           53.0\n",
       "1      UF    2245            2      2           52.0\n",
       "2      UF    2160            2      2           62.0\n",
       "3      UF    3092            1      1           32.0\n",
       "4      UF    2630            2      2           63.0"
      ]
     },
     "execution_count": 87,
     "metadata": {},
     "output_type": "execute_result"
    }
   ],
   "source": [
    "# Lista de las columnas que no necesitamos\n",
    "columnas_a_eliminar = ['Direccion', 'Comuna']\n",
    "\n",
    "# Método .drop() para eliminarlas del DataFrame\n",
    "df_limpio.drop(columns=columnas_a_eliminar, axis=1, inplace=True) # axis=1 indica a Pandas que estamos eliminando columnas # inplace=True modifica df_limpio\n",
    "\n",
    "# Verificamos el resultado mostrando las primeras 5 filas. Las columnas 'Direccion' y 'Comuna' no deberían aparecer.\n",
    "df_limpio.head()"
   ]
  },
  {
   "cell_type": "markdown",
   "id": "5628a635",
   "metadata": {},
   "source": [
    "#### Unificar valores de `Moneda`\n",
    "\n",
    "Al haber hecho una inspeccion preliminar a la página web de Mercadolibre, vimos que habían dos tipos de valores: `UF` y `$`.\n",
    "\n",
    "Verificamos que estemos en lo correcto."
   ]
  },
  {
   "cell_type": "code",
   "execution_count": 88,
   "id": "05286afc",
   "metadata": {},
   "outputs": [
    {
     "name": "stdout",
     "output_type": "stream",
     "text": [
      "Moneda\n",
      "UF    1785\n",
      "$      230\n",
      "Name: count, dtype: int64\n"
     ]
    }
   ],
   "source": [
    "# Contamos la frecuencia de cada valor en la columna 'Moneda'\n",
    "conteo_moneda = df_limpio['Moneda'].value_counts()\n",
    "\n",
    "# Imprimimos el resultado\n",
    "print(conteo_moneda)"
   ]
  },
  {
   "cell_type": "markdown",
   "id": "be1009a6",
   "metadata": {},
   "source": [
    "Convertirimos los registros que estan en `$` a `UF` asignando el valor `UF = 39209.42` (al 26 de julio del 2025) y diviendolo por los registros que están en `$`, redondeando el resultado."
   ]
  },
  {
   "cell_type": "code",
   "execution_count": 89,
   "id": "db48bca6",
   "metadata": {},
   "outputs": [
    {
     "name": "stdout",
     "output_type": "stream",
     "text": [
      "--- Verificación de Moneda después de la conversión ---\n",
      "Moneda\n",
      "UF     2015\n",
      "NaN       1\n",
      "Name: count, dtype: int64\n"
     ]
    }
   ],
   "source": [
    "# Definimos el valor de la UF que usaremos para la conversión\n",
    "valor_uf = 39209.42\n",
    "\n",
    "# Seleccionamos las filas que tienen precios en pesos chilenos ('$')\n",
    "filas_a_convertir = df_limpio['Moneda'] == '$' # Esto crea una máscara booleana (True/False) para identificar las filas a convertir\n",
    "\n",
    "# Aplicamos la conversión solo a las filas seleccionadas\n",
    "df_limpio.loc[filas_a_convertir, 'Precio'] = (df_limpio.loc[filas_a_convertir, 'Precio'] / valor_uf).round() # Dividimos el 'Precio' por el valor de la UF y lo redondeamos\n",
    "\n",
    "# Actualizamos la columna 'Moneda' a 'UF' en las filas que acabamos de convertir\n",
    "df_limpio.loc[filas_a_convertir, 'Moneda'] = 'UF'\n",
    "\n",
    "# Aseguramos que la columna 'Precio' mantenga el tipo de dato correcto (Int64)\n",
    "df_limpio['Precio'] = df_limpio['Precio'].astype('Int64') # El tipo 'Int64' (con I mayúscula) permite números enteros y valores nulos (NaN)\n",
    "\n",
    "# Verificación\n",
    "print(\"--- Verificación de Moneda después de la conversión ---\")\n",
    "# Ahora solo debería aparecer 'UF' (y NaN si hay valores nulos)\n",
    "print(df_limpio['Moneda'].value_counts(dropna=False))"
   ]
  },
  {
   "cell_type": "markdown",
   "id": "8f86efa7",
   "metadata": {},
   "source": [
    "#### Busqueda de valores nulos "
   ]
  },
  {
   "cell_type": "markdown",
   "id": "f5cf9bb2",
   "metadata": {},
   "source": [
    "Usamos la funcion `isnull().sum()` para ver la totalidad de valores nulos."
   ]
  },
  {
   "cell_type": "code",
   "execution_count": 90,
   "id": "d0bf4bb5",
   "metadata": {},
   "outputs": [
    {
     "data": {
      "text/plain": [
       "Moneda            1\n",
       "Precio            1\n",
       "Dormitorios      10\n",
       "Banos             6\n",
       "Superficie_m2     3\n",
       "dtype: int64"
      ]
     },
     "execution_count": 90,
     "metadata": {},
     "output_type": "execute_result"
    }
   ],
   "source": [
    "# Muestra totalidad de valores nulos\n",
    "df_limpio.isnull().sum()"
   ]
  },
  {
   "cell_type": "markdown",
   "id": "f06cec3e",
   "metadata": {},
   "source": [
    "En este caso, al tratarse de pocos valores nulos respecto a la proporcionalidad de los datos, no los eliminaremos ya que queremos usar todos los datos extraídos posibles. No aplicaremos el método de cambiarlos por el valor promedio sino que aplicaremos el uso de la mediana."
   ]
  },
  {
   "cell_type": "code",
   "execution_count": 91,
   "id": "c558fb31",
   "metadata": {},
   "outputs": [
    {
     "name": "stdout",
     "output_type": "stream",
     "text": [
      "--- Conteo de Nulos Después de Rellenar ---\n",
      "Moneda           1\n",
      "Precio           0\n",
      "Dormitorios      0\n",
      "Banos            0\n",
      "Superficie_m2    0\n",
      "dtype: int64\n",
      "\n",
      "--- Vista Previa del DataFrame Final ---\n"
     ]
    },
    {
     "data": {
      "text/html": [
       "<div>\n",
       "<style scoped>\n",
       "    .dataframe tbody tr th:only-of-type {\n",
       "        vertical-align: middle;\n",
       "    }\n",
       "\n",
       "    .dataframe tbody tr th {\n",
       "        vertical-align: top;\n",
       "    }\n",
       "\n",
       "    .dataframe thead th {\n",
       "        text-align: right;\n",
       "    }\n",
       "</style>\n",
       "<table border=\"1\" class=\"dataframe\">\n",
       "  <thead>\n",
       "    <tr style=\"text-align: right;\">\n",
       "      <th></th>\n",
       "      <th>Moneda</th>\n",
       "      <th>Precio</th>\n",
       "      <th>Dormitorios</th>\n",
       "      <th>Banos</th>\n",
       "      <th>Superficie_m2</th>\n",
       "    </tr>\n",
       "    <tr>\n",
       "      <th>id</th>\n",
       "      <th></th>\n",
       "      <th></th>\n",
       "      <th></th>\n",
       "      <th></th>\n",
       "      <th></th>\n",
       "    </tr>\n",
       "  </thead>\n",
       "  <tbody>\n",
       "    <tr>\n",
       "      <th>0</th>\n",
       "      <td>UF</td>\n",
       "      <td>2516</td>\n",
       "      <td>2</td>\n",
       "      <td>2</td>\n",
       "      <td>53.0</td>\n",
       "    </tr>\n",
       "    <tr>\n",
       "      <th>1</th>\n",
       "      <td>UF</td>\n",
       "      <td>2245</td>\n",
       "      <td>2</td>\n",
       "      <td>2</td>\n",
       "      <td>52.0</td>\n",
       "    </tr>\n",
       "    <tr>\n",
       "      <th>2</th>\n",
       "      <td>UF</td>\n",
       "      <td>2160</td>\n",
       "      <td>2</td>\n",
       "      <td>2</td>\n",
       "      <td>62.0</td>\n",
       "    </tr>\n",
       "    <tr>\n",
       "      <th>3</th>\n",
       "      <td>UF</td>\n",
       "      <td>3092</td>\n",
       "      <td>1</td>\n",
       "      <td>1</td>\n",
       "      <td>32.0</td>\n",
       "    </tr>\n",
       "    <tr>\n",
       "      <th>4</th>\n",
       "      <td>UF</td>\n",
       "      <td>2630</td>\n",
       "      <td>2</td>\n",
       "      <td>2</td>\n",
       "      <td>63.0</td>\n",
       "    </tr>\n",
       "  </tbody>\n",
       "</table>\n",
       "</div>"
      ],
      "text/plain": [
       "   Moneda  Precio  Dormitorios  Banos  Superficie_m2\n",
       "id                                                  \n",
       "0      UF    2516            2      2           53.0\n",
       "1      UF    2245            2      2           52.0\n",
       "2      UF    2160            2      2           62.0\n",
       "3      UF    3092            1      1           32.0\n",
       "4      UF    2630            2      2           63.0"
      ]
     },
     "execution_count": 91,
     "metadata": {},
     "output_type": "execute_result"
    }
   ],
   "source": [
    "# Hacemos una copia del DataFrame para trabajar sobre ella y mantener el original si es necesario\n",
    "df_final = df_limpio.copy()\n",
    "\n",
    "# Lista de columnas numéricas en las que queremos rellenar los nulos\n",
    "columnas_numericas = ['Precio', 'Dormitorios', 'Banos', 'Superficie_m2']\n",
    "\n",
    "# Iteramos sobre cada columna de la lista\n",
    "for columna in columnas_numericas:\n",
    "    # 1. Calculamos la mediana de la columna actual\n",
    "    mediana = df_final[columna].median()\n",
    "    \n",
    "    # 2. Rellenamos los valores nulos (NaN) de esa columna con la mediana calculada\n",
    "    df_final[columna].fillna(mediana, inplace=True)\n",
    "    \n",
    "    # 3. Opcional: convertimos las columnas que deben ser enteras de vuelta a tipo entero\n",
    "    if columna in ['Precio', 'Dormitorios', 'Banos']:\n",
    "        # Ahora que no hay nulos, podemos usar 'int' de forma segura\n",
    "        df_final[columna] = df_final[columna].astype(int)\n",
    "\n",
    "# Verificación\n",
    "# Comprobamos de nuevo el conteo de nulos. Las columnas numéricas deberían aparecer con 0.\n",
    "print(\"--- Conteo de Nulos Después de Rellenar ---\")\n",
    "print(df_final.isnull().sum())\n",
    "\n",
    "print(\"\\n--- Vista Previa del DataFrame Final ---\")\n",
    "df_final.head()"
   ]
  },
  {
   "cell_type": "markdown",
   "id": "500807fd",
   "metadata": {},
   "source": [
    "Eliminamos por ultimo la columna Moneda usando la función `.drop` solo para trabajar con datos numéricos."
   ]
  },
  {
   "cell_type": "code",
   "execution_count": 92,
   "id": "a8307953",
   "metadata": {},
   "outputs": [],
   "source": [
    "# Eliminamos la columna 'Moneda' del DataFrame\n",
    "df_final.drop('Moneda', axis=1, inplace=True)"
   ]
  },
  {
   "cell_type": "code",
   "execution_count": 93,
   "id": "2fc0732d",
   "metadata": {},
   "outputs": [
    {
     "data": {
      "text/html": [
       "<div>\n",
       "<style scoped>\n",
       "    .dataframe tbody tr th:only-of-type {\n",
       "        vertical-align: middle;\n",
       "    }\n",
       "\n",
       "    .dataframe tbody tr th {\n",
       "        vertical-align: top;\n",
       "    }\n",
       "\n",
       "    .dataframe thead th {\n",
       "        text-align: right;\n",
       "    }\n",
       "</style>\n",
       "<table border=\"1\" class=\"dataframe\">\n",
       "  <thead>\n",
       "    <tr style=\"text-align: right;\">\n",
       "      <th></th>\n",
       "      <th>Precio</th>\n",
       "      <th>Dormitorios</th>\n",
       "      <th>Banos</th>\n",
       "      <th>Superficie_m2</th>\n",
       "    </tr>\n",
       "    <tr>\n",
       "      <th>id</th>\n",
       "      <th></th>\n",
       "      <th></th>\n",
       "      <th></th>\n",
       "      <th></th>\n",
       "    </tr>\n",
       "  </thead>\n",
       "  <tbody>\n",
       "    <tr>\n",
       "      <th>0</th>\n",
       "      <td>2516</td>\n",
       "      <td>2</td>\n",
       "      <td>2</td>\n",
       "      <td>53.0</td>\n",
       "    </tr>\n",
       "    <tr>\n",
       "      <th>1</th>\n",
       "      <td>2245</td>\n",
       "      <td>2</td>\n",
       "      <td>2</td>\n",
       "      <td>52.0</td>\n",
       "    </tr>\n",
       "    <tr>\n",
       "      <th>2</th>\n",
       "      <td>2160</td>\n",
       "      <td>2</td>\n",
       "      <td>2</td>\n",
       "      <td>62.0</td>\n",
       "    </tr>\n",
       "    <tr>\n",
       "      <th>3</th>\n",
       "      <td>3092</td>\n",
       "      <td>1</td>\n",
       "      <td>1</td>\n",
       "      <td>32.0</td>\n",
       "    </tr>\n",
       "    <tr>\n",
       "      <th>4</th>\n",
       "      <td>2630</td>\n",
       "      <td>2</td>\n",
       "      <td>2</td>\n",
       "      <td>63.0</td>\n",
       "    </tr>\n",
       "  </tbody>\n",
       "</table>\n",
       "</div>"
      ],
      "text/plain": [
       "    Precio  Dormitorios  Banos  Superficie_m2\n",
       "id                                           \n",
       "0     2516            2      2           53.0\n",
       "1     2245            2      2           52.0\n",
       "2     2160            2      2           62.0\n",
       "3     3092            1      1           32.0\n",
       "4     2630            2      2           63.0"
      ]
     },
     "execution_count": 93,
     "metadata": {},
     "output_type": "execute_result"
    }
   ],
   "source": [
    "# Verificamos el resultado mostrando las primeras filas del DataFrame actualizado\n",
    "df_final.head()"
   ]
  },
  {
   "cell_type": "markdown",
   "id": "e2b22745",
   "metadata": {},
   "source": [
    "Hacemos una inspeccion final revisando las estadisticas descriptivas mediante la funcion `.describe()`"
   ]
  },
  {
   "cell_type": "code",
   "execution_count": 94,
   "id": "7086058e",
   "metadata": {},
   "outputs": [
    {
     "data": {
      "text/html": [
       "<div>\n",
       "<style scoped>\n",
       "    .dataframe tbody tr th:only-of-type {\n",
       "        vertical-align: middle;\n",
       "    }\n",
       "\n",
       "    .dataframe tbody tr th {\n",
       "        vertical-align: top;\n",
       "    }\n",
       "\n",
       "    .dataframe thead th {\n",
       "        text-align: right;\n",
       "    }\n",
       "</style>\n",
       "<table border=\"1\" class=\"dataframe\">\n",
       "  <thead>\n",
       "    <tr style=\"text-align: right;\">\n",
       "      <th></th>\n",
       "      <th>Precio</th>\n",
       "      <th>Dormitorios</th>\n",
       "      <th>Banos</th>\n",
       "      <th>Superficie_m2</th>\n",
       "    </tr>\n",
       "  </thead>\n",
       "  <tbody>\n",
       "    <tr>\n",
       "      <th>count</th>\n",
       "      <td>2016.000000</td>\n",
       "      <td>2016.000000</td>\n",
       "      <td>2016.000000</td>\n",
       "      <td>2016.000000</td>\n",
       "    </tr>\n",
       "    <tr>\n",
       "      <th>mean</th>\n",
       "      <td>2809.600694</td>\n",
       "      <td>1.766369</td>\n",
       "      <td>1.430556</td>\n",
       "      <td>49.930641</td>\n",
       "    </tr>\n",
       "    <tr>\n",
       "      <th>std</th>\n",
       "      <td>1951.995048</td>\n",
       "      <td>1.238938</td>\n",
       "      <td>0.667679</td>\n",
       "      <td>37.881130</td>\n",
       "    </tr>\n",
       "    <tr>\n",
       "      <th>min</th>\n",
       "      <td>383.000000</td>\n",
       "      <td>1.000000</td>\n",
       "      <td>1.000000</td>\n",
       "      <td>2.000000</td>\n",
       "    </tr>\n",
       "    <tr>\n",
       "      <th>25%</th>\n",
       "      <td>1947.500000</td>\n",
       "      <td>1.000000</td>\n",
       "      <td>1.000000</td>\n",
       "      <td>33.000000</td>\n",
       "    </tr>\n",
       "    <tr>\n",
       "      <th>50%</th>\n",
       "      <td>2450.000000</td>\n",
       "      <td>2.000000</td>\n",
       "      <td>1.000000</td>\n",
       "      <td>43.000000</td>\n",
       "    </tr>\n",
       "    <tr>\n",
       "      <th>75%</th>\n",
       "      <td>3090.000000</td>\n",
       "      <td>2.000000</td>\n",
       "      <td>2.000000</td>\n",
       "      <td>55.000000</td>\n",
       "    </tr>\n",
       "    <tr>\n",
       "      <th>max</th>\n",
       "      <td>27000.000000</td>\n",
       "      <td>37.000000</td>\n",
       "      <td>15.000000</td>\n",
       "      <td>651.000000</td>\n",
       "    </tr>\n",
       "  </tbody>\n",
       "</table>\n",
       "</div>"
      ],
      "text/plain": [
       "             Precio  Dormitorios        Banos  Superficie_m2\n",
       "count   2016.000000  2016.000000  2016.000000    2016.000000\n",
       "mean    2809.600694     1.766369     1.430556      49.930641\n",
       "std     1951.995048     1.238938     0.667679      37.881130\n",
       "min      383.000000     1.000000     1.000000       2.000000\n",
       "25%     1947.500000     1.000000     1.000000      33.000000\n",
       "50%     2450.000000     2.000000     1.000000      43.000000\n",
       "75%     3090.000000     2.000000     2.000000      55.000000\n",
       "max    27000.000000    37.000000    15.000000     651.000000"
      ]
     },
     "execution_count": 94,
     "metadata": {},
     "output_type": "execute_result"
    }
   ],
   "source": [
    "df_final.describe()"
   ]
  },
  {
   "cell_type": "markdown",
   "id": "97b5b47a",
   "metadata": {},
   "source": [
    "A simple vista llaman la atención el valor máximo en `Precio` (27000) considerando que el promedio es de 2809.60, y el mínimo (383).\n",
    "\n",
    "Los investigaremos para verficiar si pueden tratarse o no de un error."
   ]
  },
  {
   "cell_type": "markdown",
   "id": "debb4a88",
   "metadata": {},
   "source": [
    "#### Valores atípicos"
   ]
  },
  {
   "cell_type": "markdown",
   "id": "f4ec4382",
   "metadata": {},
   "source": [
    "#### Detección de valores atípicos máximos en Precio\n",
    "Lo haremos mediante dos figuras, la primera con un gráfico boxplot para tener una idea visual de los valores atípicos y la segunda con una tabla mostrando los valores que superan el límite superior del rango intercuartílico."
   ]
  },
  {
   "cell_type": "code",
   "execution_count": 95,
   "id": "1430249f",
   "metadata": {},
   "outputs": [
    {
     "data": {
      "image/png": "[encoded data removed]",
      "text/plain": [
       "<Figure size 1000x600 with 1 Axes>"
      ]
     },
     "metadata": {},
     "output_type": "display_data"
    }
   ],
   "source": [
    "# Configuramos el estilo y tamaño del gráfico\n",
    "sns.set_style(\"whitegrid\")\n",
    "plt.figure(figsize=(10, 6))\n",
    "\n",
    "# Creamos un box plot para la columna 'Precio'\n",
    "sns.boxplot(x=df_final['Precio'])\n",
    "\n",
    "# Añadimos títulos y etiquetas\n",
    "plt.title('Detección de Valores Atípicos en el Precio', fontsize=16)\n",
    "plt.xlabel('Precio (UF)', fontsize=12)\n",
    "\n",
    "# Mostramos el gráfico\n",
    "plt.show()"
   ]
  },
  {
   "cell_type": "code",
   "execution_count": 96,
   "id": "1a7f04eb",
   "metadata": {},
   "outputs": [
    {
     "name": "stdout",
     "output_type": "stream",
     "text": [
      "Límite superior para ser considerado un outlier de precio: 4,804 UF\n",
      "\n",
      "--- Departamentos con Precios Atípicos (Extremos) ---\n",
      "      Precio  Dormitorios  Banos  Superficie_m2\n",
      "id                                             \n",
      "1128   27000            2      1           43.0\n",
      "1633   23500            4      3          325.0\n",
      "1767   23000            3      4          300.0\n",
      "893    22950           37     15          626.0\n",
      "1637   21000            3      2          280.0\n",
      "...      ...          ...    ...            ...\n",
      "1044    4900            3      2           75.0\n",
      "1229    4900            3      1           85.0\n",
      "1198    4900            2      2           60.0\n",
      "1086    4900            3      2           80.0\n",
      "1648    4900            2      2           74.0\n",
      "\n",
      "[92 rows x 4 columns]\n"
     ]
    }
   ],
   "source": [
    "# Calculamos los cuartiles y el rango intercuartílico (IQR) para la columna 'Precio'\n",
    "Q1 = df_final['Precio'].quantile(0.25)\n",
    "Q3 = df_final['Precio'].quantile(0.75)\n",
    "IQR = Q3 - Q1\n",
    "\n",
    "# Definimos el límite superior. Cualquier valor por encima de este es un outlier.\n",
    "limite_superior = Q3 + 1.5 * IQR\n",
    "\n",
    "print(f\"Límite superior para ser considerado un outlier de precio: {limite_superior:,.0f} UF\")\n",
    "\n",
    "# Filtramos el DataFrame para mostrar solo las filas cuyo precio supera este límite\n",
    "valores_atipicos_precio = df_final[df_final['Precio'] > limite_superior]\n",
    "\n",
    "# Mostramos los valores atípicos, ordenados del más caro al más barato\n",
    "print(\"\\n--- Departamentos con Precios Atípicos (Extremos) ---\")\n",
    "print(valores_atipicos_precio.sort_values('Precio', ascending=False))"
   ]
  },
  {
   "cell_type": "markdown",
   "id": "7dc14d3d",
   "metadata": {},
   "source": [
    "Solo el departamento `id 1128` muestra lo que podría ser un error ya que no es coherente el `Precio` respecto a `Superficie_m2` entonces lo eliminamos."
   ]
  },
  {
   "cell_type": "code",
   "execution_count": 97,
   "id": "878315bc",
   "metadata": {},
   "outputs": [
    {
     "name": "stdout",
     "output_type": "stream",
     "text": [
      "Fila con id 1128 eliminada.\n"
     ]
    }
   ],
   "source": [
    "# Definimos el ID de la fila que queremos eliminar\n",
    "id_eliminar = 1128\n",
    "\n",
    "# Usamos .drop() para eliminar la fila usando su índice. \n",
    "# inplace=True modifica el DataFrame df_final directamente.\n",
    "# errors='ignore' evita que el código falle si intentas eliminar una fila que ya no existe.\n",
    "df_final.drop(id_eliminar, inplace=True, errors='ignore')\n",
    "\n",
    "# Confirmamos que la fila fue eliminada imprimiendo un mensaje\n",
    "print(f\"Fila con id {id_eliminar} eliminada.\")"
   ]
  },
  {
   "cell_type": "markdown",
   "id": "80a62a1b",
   "metadata": {},
   "source": [
    "#### Busqueda de valores atípicos mínimos en Superficie_m2\n",
    "Esta vez edtectaremos los valores atípicos mínimos ordenando el DataFrame por `Superficie_m2` de menor a mayor.\n"
   ]
  },
  {
   "cell_type": "code",
   "execution_count": 98,
   "id": "85857ffb",
   "metadata": {},
   "outputs": [
    {
     "data": {
      "text/html": [
       "<div>\n",
       "<style scoped>\n",
       "    .dataframe tbody tr th:only-of-type {\n",
       "        vertical-align: middle;\n",
       "    }\n",
       "\n",
       "    .dataframe tbody tr th {\n",
       "        vertical-align: top;\n",
       "    }\n",
       "\n",
       "    .dataframe thead th {\n",
       "        text-align: right;\n",
       "    }\n",
       "</style>\n",
       "<table border=\"1\" class=\"dataframe\">\n",
       "  <thead>\n",
       "    <tr style=\"text-align: right;\">\n",
       "      <th></th>\n",
       "      <th>Precio</th>\n",
       "      <th>Dormitorios</th>\n",
       "      <th>Banos</th>\n",
       "      <th>Superficie_m2</th>\n",
       "    </tr>\n",
       "    <tr>\n",
       "      <th>id</th>\n",
       "      <th></th>\n",
       "      <th></th>\n",
       "      <th></th>\n",
       "      <th></th>\n",
       "    </tr>\n",
       "  </thead>\n",
       "  <tbody>\n",
       "    <tr>\n",
       "      <th>79</th>\n",
       "      <td>2190</td>\n",
       "      <td>1</td>\n",
       "      <td>1</td>\n",
       "      <td>2.000</td>\n",
       "    </tr>\n",
       "    <tr>\n",
       "      <th>1371</th>\n",
       "      <td>3400</td>\n",
       "      <td>1</td>\n",
       "      <td>1</td>\n",
       "      <td>2.000</td>\n",
       "    </tr>\n",
       "    <tr>\n",
       "      <th>336</th>\n",
       "      <td>4000</td>\n",
       "      <td>2</td>\n",
       "      <td>2</td>\n",
       "      <td>2.000</td>\n",
       "    </tr>\n",
       "    <tr>\n",
       "      <th>1250</th>\n",
       "      <td>4000</td>\n",
       "      <td>3</td>\n",
       "      <td>2</td>\n",
       "      <td>3.000</td>\n",
       "    </tr>\n",
       "    <tr>\n",
       "      <th>1298</th>\n",
       "      <td>2200</td>\n",
       "      <td>1</td>\n",
       "      <td>1</td>\n",
       "      <td>3.000</td>\n",
       "    </tr>\n",
       "    <tr>\n",
       "      <th>1275</th>\n",
       "      <td>3700</td>\n",
       "      <td>2</td>\n",
       "      <td>2</td>\n",
       "      <td>3.000</td>\n",
       "    </tr>\n",
       "    <tr>\n",
       "      <th>1142</th>\n",
       "      <td>2780</td>\n",
       "      <td>2</td>\n",
       "      <td>2</td>\n",
       "      <td>3.000</td>\n",
       "    </tr>\n",
       "    <tr>\n",
       "      <th>1340</th>\n",
       "      <td>3762</td>\n",
       "      <td>2</td>\n",
       "      <td>2</td>\n",
       "      <td>4.447</td>\n",
       "    </tr>\n",
       "    <tr>\n",
       "      <th>1367</th>\n",
       "      <td>1900</td>\n",
       "      <td>1</td>\n",
       "      <td>1</td>\n",
       "      <td>5.000</td>\n",
       "    </tr>\n",
       "    <tr>\n",
       "      <th>1180</th>\n",
       "      <td>2200</td>\n",
       "      <td>2</td>\n",
       "      <td>1</td>\n",
       "      <td>6.280</td>\n",
       "    </tr>\n",
       "    <tr>\n",
       "      <th>1658</th>\n",
       "      <td>2990</td>\n",
       "      <td>2</td>\n",
       "      <td>1</td>\n",
       "      <td>6.446</td>\n",
       "    </tr>\n",
       "    <tr>\n",
       "      <th>760</th>\n",
       "      <td>3545</td>\n",
       "      <td>3</td>\n",
       "      <td>1</td>\n",
       "      <td>10.000</td>\n",
       "    </tr>\n",
       "    <tr>\n",
       "      <th>1244</th>\n",
       "      <td>1000</td>\n",
       "      <td>1</td>\n",
       "      <td>1</td>\n",
       "      <td>14.000</td>\n",
       "    </tr>\n",
       "    <tr>\n",
       "      <th>1933</th>\n",
       "      <td>1200</td>\n",
       "      <td>1</td>\n",
       "      <td>1</td>\n",
       "      <td>16.000</td>\n",
       "    </tr>\n",
       "    <tr>\n",
       "      <th>491</th>\n",
       "      <td>2084</td>\n",
       "      <td>1</td>\n",
       "      <td>1</td>\n",
       "      <td>17.000</td>\n",
       "    </tr>\n",
       "    <tr>\n",
       "      <th>1850</th>\n",
       "      <td>2235</td>\n",
       "      <td>1</td>\n",
       "      <td>1</td>\n",
       "      <td>18.000</td>\n",
       "    </tr>\n",
       "    <tr>\n",
       "      <th>1479</th>\n",
       "      <td>1200</td>\n",
       "      <td>1</td>\n",
       "      <td>1</td>\n",
       "      <td>18.000</td>\n",
       "    </tr>\n",
       "    <tr>\n",
       "      <th>1759</th>\n",
       "      <td>1350</td>\n",
       "      <td>1</td>\n",
       "      <td>1</td>\n",
       "      <td>18.000</td>\n",
       "    </tr>\n",
       "    <tr>\n",
       "      <th>220</th>\n",
       "      <td>2202</td>\n",
       "      <td>1</td>\n",
       "      <td>1</td>\n",
       "      <td>19.000</td>\n",
       "    </tr>\n",
       "    <tr>\n",
       "      <th>1402</th>\n",
       "      <td>2090</td>\n",
       "      <td>1</td>\n",
       "      <td>1</td>\n",
       "      <td>19.000</td>\n",
       "    </tr>\n",
       "    <tr>\n",
       "      <th>1396</th>\n",
       "      <td>2090</td>\n",
       "      <td>1</td>\n",
       "      <td>1</td>\n",
       "      <td>19.000</td>\n",
       "    </tr>\n",
       "    <tr>\n",
       "      <th>695</th>\n",
       "      <td>1100</td>\n",
       "      <td>1</td>\n",
       "      <td>1</td>\n",
       "      <td>20.000</td>\n",
       "    </tr>\n",
       "    <tr>\n",
       "      <th>1197</th>\n",
       "      <td>1275</td>\n",
       "      <td>1</td>\n",
       "      <td>1</td>\n",
       "      <td>20.000</td>\n",
       "    </tr>\n",
       "    <tr>\n",
       "      <th>340</th>\n",
       "      <td>1790</td>\n",
       "      <td>1</td>\n",
       "      <td>1</td>\n",
       "      <td>20.000</td>\n",
       "    </tr>\n",
       "    <tr>\n",
       "      <th>430</th>\n",
       "      <td>1100</td>\n",
       "      <td>1</td>\n",
       "      <td>1</td>\n",
       "      <td>20.000</td>\n",
       "    </tr>\n",
       "    <tr>\n",
       "      <th>152</th>\n",
       "      <td>1500</td>\n",
       "      <td>1</td>\n",
       "      <td>1</td>\n",
       "      <td>20.000</td>\n",
       "    </tr>\n",
       "    <tr>\n",
       "      <th>670</th>\n",
       "      <td>1300</td>\n",
       "      <td>1</td>\n",
       "      <td>1</td>\n",
       "      <td>20.000</td>\n",
       "    </tr>\n",
       "    <tr>\n",
       "      <th>104</th>\n",
       "      <td>1178</td>\n",
       "      <td>1</td>\n",
       "      <td>1</td>\n",
       "      <td>20.000</td>\n",
       "    </tr>\n",
       "    <tr>\n",
       "      <th>691</th>\n",
       "      <td>990</td>\n",
       "      <td>2</td>\n",
       "      <td>1</td>\n",
       "      <td>20.000</td>\n",
       "    </tr>\n",
       "    <tr>\n",
       "      <th>1925</th>\n",
       "      <td>1850</td>\n",
       "      <td>1</td>\n",
       "      <td>1</td>\n",
       "      <td>20.000</td>\n",
       "    </tr>\n",
       "  </tbody>\n",
       "</table>\n",
       "</div>"
      ],
      "text/plain": [
       "      Precio  Dormitorios  Banos  Superficie_m2\n",
       "id                                             \n",
       "79      2190            1      1          2.000\n",
       "1371    3400            1      1          2.000\n",
       "336     4000            2      2          2.000\n",
       "1250    4000            3      2          3.000\n",
       "1298    2200            1      1          3.000\n",
       "1275    3700            2      2          3.000\n",
       "1142    2780            2      2          3.000\n",
       "1340    3762            2      2          4.447\n",
       "1367    1900            1      1          5.000\n",
       "1180    2200            2      1          6.280\n",
       "1658    2990            2      1          6.446\n",
       "760     3545            3      1         10.000\n",
       "1244    1000            1      1         14.000\n",
       "1933    1200            1      1         16.000\n",
       "491     2084            1      1         17.000\n",
       "1850    2235            1      1         18.000\n",
       "1479    1200            1      1         18.000\n",
       "1759    1350            1      1         18.000\n",
       "220     2202            1      1         19.000\n",
       "1402    2090            1      1         19.000\n",
       "1396    2090            1      1         19.000\n",
       "695     1100            1      1         20.000\n",
       "1197    1275            1      1         20.000\n",
       "340     1790            1      1         20.000\n",
       "430     1100            1      1         20.000\n",
       "152     1500            1      1         20.000\n",
       "670     1300            1      1         20.000\n",
       "104     1178            1      1         20.000\n",
       "691      990            2      1         20.000\n",
       "1925    1850            1      1         20.000"
      ]
     },
     "execution_count": 98,
     "metadata": {},
     "output_type": "execute_result"
    }
   ],
   "source": [
    "# Ordenamos el DataFrame por 'Superficie_m2' de menor a mayor\n",
    "df_final.sort_values(by='Superficie_m2', ascending=True).head(30)"
   ]
  },
  {
   "cell_type": "markdown",
   "id": "c79fc4b3",
   "metadata": {},
   "source": [
    "Por lógica de analisis, eliminaremos las primeras 20 filas con menor número de superificie_m2 ya que no es repesentativo de la realidad en la capital. No es común encontrar departamentos de menos de 20 m2."
   ]
  },
  {
   "cell_type": "code",
   "execution_count": 99,
   "id": "7fcdee3f",
   "metadata": {},
   "outputs": [
    {
     "name": "stdout",
     "output_type": "stream",
     "text": [
      "Se eliminaron 20 filas.\n",
      "Número de filas original: 2015\n",
      "Número de filas actual: 1995\n",
      "Nueva superficie mínima: 19.0 m²\n"
     ]
    }
   ],
   "source": [
    "# Guardamos el número de filas antes de eliminar para verificar\n",
    "conteo_original = len(df_final)\n",
    "\n",
    "# Identificamos los índices de las 20 propiedades más pequeñas\n",
    "indices_a_eliminar = df_final.sort_values(by='Superficie_m2', ascending=True).head(20).index\n",
    "\n",
    "# Eliminamos esas filas del DataFrame usando sus índices\n",
    "df_final.drop(indices_a_eliminar, inplace=True)\n",
    "\n",
    "# Imprimimos un resumen de la operación\n",
    "print(f\"Se eliminaron {len(indices_a_eliminar)} filas.\")\n",
    "print(f\"Número de filas original: {conteo_original}\")\n",
    "print(f\"Número de filas actual: {len(df_final)}\")\n",
    "\n",
    "# Verificamos la nueva superficie mínima\n",
    "print(f\"Nueva superficie mínima: {df_final['Superficie_m2'].min()} m²\")"
   ]
  },
  {
   "cell_type": "markdown",
   "id": "a15fc99a",
   "metadata": {},
   "source": [
    "---"
   ]
  },
  {
   "cell_type": "markdown",
   "id": "d38171cd",
   "metadata": {},
   "source": [
    "#### Análisis exploratorio de datos"
   ]
  },
  {
   "cell_type": "markdown",
   "id": "589a03b6",
   "metadata": {},
   "source": [
    "#### ¿Cuál es el valor promedio del metro cuadrado en Santiago?\n",
    "\n",
    "Para un mejor analisis en general, enriqueceremos nuesto DataFrame creando una nueva columna `Precio_por_m2` que contenga una formula sencilla tomando el `Precio` y diviendiendo por `Superficie_m2`"
   ]
  },
  {
   "cell_type": "markdown",
   "id": "da05ebf0",
   "metadata": {},
   "source": [
    "* Creación de la Columna `Precio_por_m2`:"
   ]
  },
  {
   "cell_type": "code",
   "execution_count": 100,
   "id": "660ed0a3",
   "metadata": {},
   "outputs": [
    {
     "data": {
      "text/html": [
       "<div>\n",
       "<style scoped>\n",
       "    .dataframe tbody tr th:only-of-type {\n",
       "        vertical-align: middle;\n",
       "    }\n",
       "\n",
       "    .dataframe tbody tr th {\n",
       "        vertical-align: top;\n",
       "    }\n",
       "\n",
       "    .dataframe thead th {\n",
       "        text-align: right;\n",
       "    }\n",
       "</style>\n",
       "<table border=\"1\" class=\"dataframe\">\n",
       "  <thead>\n",
       "    <tr style=\"text-align: right;\">\n",
       "      <th></th>\n",
       "      <th>Precio</th>\n",
       "      <th>Dormitorios</th>\n",
       "      <th>Banos</th>\n",
       "      <th>Superficie_m2</th>\n",
       "      <th>Precio_por_m2</th>\n",
       "    </tr>\n",
       "    <tr>\n",
       "      <th>id</th>\n",
       "      <th></th>\n",
       "      <th></th>\n",
       "      <th></th>\n",
       "      <th></th>\n",
       "      <th></th>\n",
       "    </tr>\n",
       "  </thead>\n",
       "  <tbody>\n",
       "    <tr>\n",
       "      <th>0</th>\n",
       "      <td>2516</td>\n",
       "      <td>2</td>\n",
       "      <td>2</td>\n",
       "      <td>53.0</td>\n",
       "      <td>47.471698</td>\n",
       "    </tr>\n",
       "    <tr>\n",
       "      <th>1</th>\n",
       "      <td>2245</td>\n",
       "      <td>2</td>\n",
       "      <td>2</td>\n",
       "      <td>52.0</td>\n",
       "      <td>43.173077</td>\n",
       "    </tr>\n",
       "    <tr>\n",
       "      <th>2</th>\n",
       "      <td>2160</td>\n",
       "      <td>2</td>\n",
       "      <td>2</td>\n",
       "      <td>62.0</td>\n",
       "      <td>34.838710</td>\n",
       "    </tr>\n",
       "    <tr>\n",
       "      <th>3</th>\n",
       "      <td>3092</td>\n",
       "      <td>1</td>\n",
       "      <td>1</td>\n",
       "      <td>32.0</td>\n",
       "      <td>96.625000</td>\n",
       "    </tr>\n",
       "    <tr>\n",
       "      <th>4</th>\n",
       "      <td>2630</td>\n",
       "      <td>2</td>\n",
       "      <td>2</td>\n",
       "      <td>63.0</td>\n",
       "      <td>41.746032</td>\n",
       "    </tr>\n",
       "  </tbody>\n",
       "</table>\n",
       "</div>"
      ],
      "text/plain": [
       "    Precio  Dormitorios  Banos  Superficie_m2  Precio_por_m2\n",
       "id                                                          \n",
       "0     2516            2      2           53.0      47.471698\n",
       "1     2245            2      2           52.0      43.173077\n",
       "2     2160            2      2           62.0      34.838710\n",
       "3     3092            1      1           32.0      96.625000\n",
       "4     2630            2      2           63.0      41.746032"
      ]
     },
     "execution_count": 100,
     "metadata": {},
     "output_type": "execute_result"
    }
   ],
   "source": [
    "# Creamos la nueva columna 'precio_por_m2' dividiendo el Precio por la Superficie\n",
    "df_final['Precio_por_m2'] = df_final['Precio'] / df_final['Superficie_m2']\n",
    "\n",
    "# Verificamos el resultado mostrando las primeras filas, ahora con la nueva columna\n",
    "df_final.head()"
   ]
  },
  {
   "cell_type": "markdown",
   "id": "5039656c",
   "metadata": {},
   "source": [
    "Ahora que tenemos la columna, podemos responder cuál es su valor promedio con la función `.mean`"
   ]
  },
  {
   "cell_type": "code",
   "execution_count": 101,
   "id": "362adbdd",
   "metadata": {},
   "outputs": [
    {
     "name": "stdout",
     "output_type": "stream",
     "text": [
      "El valor promedio del metro cuadrado es: 58.54 UF/m²\n"
     ]
    }
   ],
   "source": [
    "# Calculamos el valor promedio del metro cuadrado\n",
    "valor_promedio_m2 = df_final['Precio_por_m2'].mean()\n",
    "print(f\"El valor promedio del metro cuadrado es: {valor_promedio_m2:.2f} UF/m²\")"
   ]
  },
  {
   "cell_type": "markdown",
   "id": "141b1621",
   "metadata": {},
   "source": [
    "#### Histograma para ver la distribución con este nuevo valor. \n",
    "Esto nos mostrará qué rangos de `valor por m²` son más comunes."
   ]
  },
  {
   "cell_type": "code",
   "execution_count": 102,
   "id": "c37053f5",
   "metadata": {},
   "outputs": [
    {
     "data": {
      "image/png": "[encoded data removed]",
      "text/plain": [
       "<Figure size 1200x700 with 1 Axes>"
      ]
     },
     "metadata": {},
     "output_type": "display_data"
    }
   ],
   "source": [
    "# Configuramos el tema y el tamaño del gráfico\n",
    "sns.set_theme(style=\"whitegrid\", palette=\"rocket\")\n",
    "plt.figure(figsize=(12, 7))\n",
    "\n",
    "# Creamos el histograma para nuestra nueva métrica\n",
    "sns.histplot(data=df_final, x='Precio_por_m2', kde=True, bins=30)\n",
    "\n",
    "# Añadimos títulos y etiquetas\n",
    "plt.title('Distribución del Precio por Metro Cuadrado (UF/m²)', fontsize=16, weight='bold')\n",
    "plt.xlabel('Precio por Metro Cuadrado (UF/m²)', fontsize=12)\n",
    "plt.ylabel('Cantidad de Departamentos', fontsize=12)\n",
    "\n",
    "# Mostramos el gráfico\n",
    "plt.show()"
   ]
  },
  {
   "cell_type": "markdown",
   "id": "839eb538",
   "metadata": {},
   "source": [
    "La gran mayoría de los departamentos se concentra en un rango de valor entre 50 y 80 UF/m², indicando un mercado relativamente consistente en términos de costo por espacio."
   ]
  },
  {
   "cell_type": "markdown",
   "id": "24bbce6e",
   "metadata": {},
   "source": [
    "#### Mapa de calor de correlación\n",
    "Para visualizar la relación entre las variables en búsqueda de las características que mas podrían influenciar en el `Precio`."
   ]
  },
  {
   "cell_type": "code",
   "execution_count": 103,
   "id": "ca833504",
   "metadata": {},
   "outputs": [
    {
     "data": {
      "image/png": "[encoded data removed]",
      "text/plain": [
       "<Figure size 800x600 with 2 Axes>"
      ]
     },
     "metadata": {},
     "output_type": "display_data"
    }
   ],
   "source": [
    "# Calculamos la matriz de correlación del DataFrame\n",
    "corr_matrix = df_final.corr()\n",
    "\n",
    "# Creamos la figura y los ejes para el gráfico\n",
    "plt.figure(figsize=(8, 6))\n",
    "\n",
    "# Creamos el mapa de calor usando Seaborn\n",
    "sns.heatmap(corr_matrix, annot=True, cmap='coolwarm', fmt='.2f') \n",
    "\n",
    "# Añadimos un título\n",
    "plt.title('Mapa de Calor de Correlación de Propiedades')\n",
    "\n",
    "# Mostramos el gráfico\n",
    "plt.show()"
   ]
  },
  {
   "cell_type": "markdown",
   "id": "30ec2181",
   "metadata": {},
   "source": [
    "La correlación más alta con el `Precio`, obviamente con los pocos datos que manejamos, es la `Superficie_m2`, con un valor muy fuerte de 0.85.\n",
    "\n",
    "Este hallazgo indica que el tamaño del departamento es, por lejos, el factor que más influye en su valor. A medida que los metros cuadrados aumentan, el precio tiende a subir de una manera muy predecible. Confirmando así la lógica del mercado inmobiliario."
   ]
  },
  {
   "cell_type": "markdown",
   "id": "9c9b7922",
   "metadata": {},
   "source": [
    "#### ¿Cuál es el precio promedio, mínimo y máximo de un departamento en Santiago?"
   ]
  },
  {
   "cell_type": "code",
   "execution_count": 110,
   "id": "62de35ce",
   "metadata": {},
   "outputs": [
    {
     "name": "stdout",
     "output_type": "stream",
     "text": [
      "\n",
      "Precio Promedio: 2,801 UF\n",
      "Precio Mínimo: 383 UF\n",
      "Precio Máximo: 23,500 UF\n"
     ]
    }
   ],
   "source": [
    "# Calculamos cada estadística individualmente\n",
    "precio_promedio = df_final['Precio'].mean()\n",
    "precio_minimo = df_final['Precio'].min()\n",
    "precio_maximo = df_final['Precio'].max()\n",
    "\n",
    "# Usamos f-strings para imprimir los resultados formateados\n",
    "print(f\"\\nPrecio Promedio: {precio_promedio:,.0f} UF\")\n",
    "print(f\"Precio Mínimo: {precio_minimo:,.0f} UF\")\n",
    "print(f\"Precio Máximo: {precio_maximo:,.0f} UF\")"
   ]
  },
  {
   "cell_type": "markdown",
   "id": "d47e0fe9",
   "metadata": {},
   "source": [
    "#### ¿Cuál es la superficie promedio?"
   ]
  },
  {
   "cell_type": "code",
   "execution_count": 105,
   "id": "8c4424b1",
   "metadata": {},
   "outputs": [
    {
     "name": "stdout",
     "output_type": "stream",
     "text": [
      "La superficie promedio de los departamentos es: 50.34 m²\n"
     ]
    }
   ],
   "source": [
    "# Calculamos el promedio (media) de la columna 'Superficie_m2'\n",
    "superficie_promedio = df_final['Superficie_m2'].mean()\n",
    "\n",
    "# Imprimimos el resultado formateado con dos decimales\n",
    "print(f\"La superficie promedio de los departamentos es: {superficie_promedio:.2f} m²\")"
   ]
  },
  {
   "cell_type": "markdown",
   "id": "acfe3233",
   "metadata": {},
   "source": [
    "#### ¿Cuál es la configuración máscomún (ej. 2 dormitorios, 2 baños)?"
   ]
  },
  {
   "cell_type": "code",
   "execution_count": 106,
   "id": "8e810a35",
   "metadata": {},
   "outputs": [
    {
     "name": "stdout",
     "output_type": "stream",
     "text": [
      "\n",
      "La configuración más común es: 1 dormitorios y 1 baños.\n"
     ]
    }
   ],
   "source": [
    "# .idxmax() nos da el índice del valor más alto, que en este caso es la tupla (dormitorios, baños) más común.\n",
    "configuracion_top = df_final.groupby(['Dormitorios', 'Banos']).size().idxmax()\n",
    "\n",
    "print(f\"\\nLa configuración más común es: {configuracion_top[0]} dormitorios y {configuracion_top[1]} baños.\")"
   ]
  },
  {
   "cell_type": "markdown",
   "id": "5c4d12f9",
   "metadata": {},
   "source": [
    "#### ¿La mayoría de los departamentos se concentran en un rango de precios específico?"
   ]
  },
  {
   "cell_type": "code",
   "execution_count": 107,
   "id": "ea17fed5",
   "metadata": {},
   "outputs": [
    {
     "data": {
      "image/png": "[encoded data removed]",
      "text/plain": [
       "<Figure size 1200x700 with 1 Axes>"
      ]
     },
     "metadata": {},
     "output_type": "display_data"
    }
   ],
   "source": [
    "# Configuramos el tema y la paleta de colores\n",
    "sns.set_theme(style=\"whitegrid\", palette=\"flare\")\n",
    "\n",
    "# Creamos la figura\n",
    "plt.figure(figsize=(12, 7))\n",
    "\n",
    "# Creamos el histograma\n",
    "sns.histplot(\n",
    "    data=df_final,\n",
    "    x='Precio',\n",
    "    kde=True,\n",
    "    edgecolor=\"white\",\n",
    "    linewidth=1.5,\n",
    "    line_kws={'linewidth': 3}\n",
    ")\n",
    "\n",
    "# Establecemos el límite del eje X para que vaya desde 0 hasta 10000\n",
    "plt.xlim(0, 10000)\n",
    "\n",
    "# Añadimos títulos y etiquetas\n",
    "plt.title('Distribución de Precios de Departamentos (hasta 10,000 UF)', fontsize=18, weight='bold')\n",
    "plt.xlabel('Precio (UF)', fontsize=14)\n",
    "plt.ylabel('Cantidad de Departamentos', fontsize=14)\n",
    "\n",
    "# Mostramos el gráfico\n",
    "plt.show()"
   ]
  },
  {
   "cell_type": "markdown",
   "id": "49ce2adf",
   "metadata": {},
   "source": [
    "El gráfico muestra que la gran mayoría de los departamentos en venta se concentra en un rango de precios relativamente estrecho, principalmente entre las 1,500 y 3,500 UF. El punto más alto (la moda) se encuentra alrededor de las 2,000 - 2,500 UF.\n",
    "\n",
    "Distribución con Sesgo Positivo: La distribución no es simétrica. Presenta un sesgo positivo (o \"cola a la derecha\"), lo cual es típico en datos de ingresos o precios. Esto significa que, si bien la mayoría de las propiedades son relativamente asequibles, existe un número menor de departamentos con precios mucho más altos que \"estiran\" la distribución hacia la derecha."
   ]
  },
  {
   "cell_type": "markdown",
   "id": "5392108c",
   "metadata": {},
   "source": [
    "#### ¿Cómo se compara la distribución de precios entre las diferentes cantidades de dormitorios?"
   ]
  },
  {
   "cell_type": "code",
   "execution_count": 108,
   "id": "24b7f92c",
   "metadata": {},
   "outputs": [
    {
     "data": {
      "image/png": "[encoded data removed]",
      "text/plain": [
       "<Figure size 1400x800 with 1 Axes>"
      ]
     },
     "metadata": {},
     "output_type": "display_data"
    }
   ],
   "source": [
    "# Configuramos el tema y el tamaño del gráfico\n",
    "sns.set_theme(style=\"whitegrid\", palette=\"viridis\")\n",
    "plt.figure(figsize=(14, 8))\n",
    "\n",
    "# Creamos el gráfico de violín\n",
    "# 'x' será la categoría (Dormitorios) y 'y' la variable numérica (Precio)\n",
    "sns.violinplot(\n",
    "    data=df_final,\n",
    "    x='Dormitorios',\n",
    "    y='Precio'\n",
    ")\n",
    "\n",
    "# Añadimos títulos y etiquetas para mayor claridad\n",
    "plt.title('Distribución de Precios por Número de Dormitorios', fontsize=18, weight='bold')\n",
    "plt.xlabel('Número de Dormitorios', fontsize=14)\n",
    "plt.ylabel('Precio (UF)', fontsize=14)\n",
    "\n",
    "# Mostramos el gráfico\n",
    "plt.show()"
   ]
  },
  {
   "cell_type": "markdown",
   "id": "636d3cee",
   "metadata": {},
   "source": [
    "La mayor parte de la oferta se concentra en departamentos de 1, 2 y 3 dormitorios. Esto se evidencia en que los violines de estas categorías son los más anchos en la base, indicando una alta densidad de propiedades en los rangos de precios más bajos.\n",
    "\n",
    "A medida que aumenta el número de dormitorios, se observa una clara tendencia al alza en el precio mediano (el punto blanco). Además, los violines se alargan, lo que significa que aumenta la variabilidad: el rango de precios para un departamento de 4 dormitorios es mucho más amplio que para uno de 1 dormitorio.\n",
    "\n",
    "Las propiedades con 8 o más dormitorios son casos atípicos y muy escasos en el conjunto de datos. Sus gráficos son extremadamente delgados o simplemente líneas, lo que indica que hay muy pocas propiedades en estas categorías, representando un nicho de mercado muy específico."
   ]
  },
  {
   "cell_type": "markdown",
   "id": "895dca10",
   "metadata": {},
   "source": [
    "#### ¿Cómo afecta la superficie al precio? ¿Más metros cuadrados, siempre sube el precio?"
   ]
  },
  {
   "cell_type": "code",
   "execution_count": 109,
   "id": "49b957ec",
   "metadata": {},
   "outputs": [
    {
     "data": {
      "image/png": "[encoded data removed]",
      "text/plain": [
       "<Figure size 1000x700 with 1 Axes>"
      ]
     },
     "metadata": {},
     "output_type": "display_data"
    }
   ],
   "source": [
    "# Configuramos el tema y el tamaño del gráfico\n",
    "sns.set_theme(style=\"whitegrid\") # Estilo de fondo blanco con cuadrícula\n",
    "plt.figure(figsize=(10, 7)) # Tamaño del gráfico\n",
    "\n",
    "# Creamos un gráfico de dispersión con una línea de regresión para ver la tendencia\n",
    "sns.regplot(\n",
    "    data=df_final, \n",
    "    x='Superficie_m2', \n",
    "    y='Precio',\n",
    "    scatter_kws={'alpha':0.4, 'color':'#4C72B0'}, # Hacemos los puntos semitransparentes\n",
    "    line_kws={'color':'#DD8452', 'linewidth':3} # Hacemos la línea de tendencia más gruesa y de otro color\n",
    ")\n",
    "\n",
    "# Añadimos títulos y etiquetas\n",
    "plt.title('Relación entre Superficie y Precio de Departamentos', fontsize=16, weight='bold')\n",
    "plt.xlabel('Superficie (m²)', fontsize=12)\n",
    "plt.ylabel('Precio (UF)', fontsize=12)\n",
    "\n",
    "# Mostramos el gráfico\n",
    "plt.show()"
   ]
  },
  {
   "cell_type": "markdown",
   "id": "2a5e2baf",
   "metadata": {},
   "source": [
    "Se observa una clara tendencia ascendente. A medida que aumenta la Superficie (m²), el Precio (UF) también tiende a aumentar de forma predecible, tal como lo indica la línea de regresión.\n",
    "\n",
    "Tambien podemos ver que a medida que la superficie crece, los puntos se dispersan más, lo que indica una mayor variabilidad de precios en las propiedades más grandes.\n",
    "\n",
    "La mayoría de los puntos se agrupan en la esquina inferior izquierda, confirmando que el grueso del mercado se encuentra en departamentos de menos de 200 m² y precios por debajo de las 10,000 UF."
   ]
  }
 ],
 "metadata": {
  "kernelspec": {
   "display_name": "Python 3",
   "language": "python",
   "name": "python3"
  },
  "language_info": {
   "codemirror_mode": {
    "name": "ipython",
    "version": 3
   },
   "file_extension": ".py",
   "mimetype": "text/x-python",
   "name": "python",
   "nbconvert_exporter": "python",
   "pygments_lexer": "ipython3",
   "version": "3.13.5"
  }
 },
 "nbformat": 4,
 "nbformat_minor": 5
}
